{
  "nbformat": 4,
  "nbformat_minor": 0,
  "metadata": {
    "colab": {
      "name": "Sreelakshmi Shaji EXP9_HandWrittenDigitRecognition.ipynb",
      "provenance": [],
      "collapsed_sections": [],
      "include_colab_link": true
    },
    "kernelspec": {
      "name": "python3",
      "display_name": "Python 3"
    },
    "language_info": {
      "name": "python"
    }
  },
  "cells": [
    {
      "cell_type": "markdown",
      "metadata": {
        "id": "view-in-github",
        "colab_type": "text"
      },
      "source": [
        "<a href=\"https://colab.research.google.com/github/Sreelakshmi30/DS-lab/blob/main/Sreelakshmi_Shaji_EXP9_HandWrittenDigitRecognition.ipynb\" target=\"_parent\"><img src=\"https://colab.research.google.com/assets/colab-badge.svg\" alt=\"Open In Colab\"/></a>"
      ]
    },
    {
      "cell_type": "markdown",
      "source": [
        "Importing Necessary Libraries"
      ],
      "metadata": {
        "id": "KW0nPjYfht5t"
      }
    },
    {
      "cell_type": "code",
      "execution_count": null,
      "metadata": {
        "id": "eoaqru1BouMK"
      },
      "outputs": [],
      "source": [
        "import tensorflow as tf\n",
        "from tensorflow import keras\n",
        "import matplotlib.pyplot as plt\n",
        "import numpy as np\n",
        "\n",
        "#load MNIST dataset available in Keras library\n",
        "(X_train, y_train) , (X_test, y_test) = keras.datasets.mnist.load_data()"
      ]
    },
    {
      "cell_type": "markdown",
      "source": [
        "# To Know No. of Examples in Training Dataset"
      ],
      "metadata": {
        "id": "u1eBsb2MlhWe"
      }
    },
    {
      "cell_type": "code",
      "source": [
        "# No. of examples in train dataset\n",
        "print(\"Length of Xtrain:\",len(X_train))\n",
        "print(type(X_train))\n",
        "\n",
        "# No. of examples in test dataset\n",
        "print(\"Length of Xtest:\",len(X_test))\n",
        "print(\"Dimension of Xtrain:\",X_train.ndim)\n",
        "print(\"Shape of Xtrain:\",X_train.shape)\n"
      ],
      "metadata": {
        "id": "HPLzCAJfpJbF",
        "colab": {
          "base_uri": "https://localhost:8080/"
        },
        "outputId": "805f5882-e37d-48d3-a04e-37582825fdc9"
      },
      "execution_count": null,
      "outputs": [
        {
          "output_type": "stream",
          "name": "stdout",
          "text": [
            "Length of Xtrain: 60000\n",
            "<class 'numpy.ndarray'>\n",
            "Length of Xtest: 10000\n",
            "Dimension of Xtrain: 3\n",
            "Shape of Xtrain: (60000, 28, 28)\n"
          ]
        }
      ]
    },
    {
      "cell_type": "code",
      "source": [
        "# Give details of an image in the dataset\n",
        "X_train[0].shape"
      ],
      "metadata": {
        "id": "6SPP1mD8pVph",
        "colab": {
          "base_uri": "https://localhost:8080/"
        },
        "outputId": "4f273500-86ad-4f72-ff1e-7c4f3719e84c"
      },
      "execution_count": null,
      "outputs": [
        {
          "output_type": "execute_result",
          "data": {
            "text/plain": [
              "(28, 28)"
            ]
          },
          "metadata": {},
          "execution_count": 21
        }
      ]
    },
    {
      "cell_type": "code",
      "source": [
        "#matshow() function OR imshow() function is used to represent an array as a matrix in a new figure window. \n",
        "#plt.matshow(X_train[0]) OR plt.imshow(X_train[2])\n",
        "import matplotlib.pyplot as plt\n",
        "plt.imshow(X_train[2])\n"
      ],
      "metadata": {
        "id": "86UK-OJPr2VB",
        "colab": {
          "base_uri": "https://localhost:8080/",
          "height": 282
        },
        "outputId": "4252f5ba-ff40-47b5-f8af-a8c8771eeeb9"
      },
      "execution_count": null,
      "outputs": [
        {
          "output_type": "execute_result",
          "data": {
            "text/plain": [
              "<matplotlib.image.AxesImage at 0x7f0acf235650>"
            ]
          },
          "metadata": {},
          "execution_count": 22
        },
        {
          "output_type": "display_data",
          "data": {
            "image/png": "[encoded data removed]",
            "text/plain": [
              "<Figure size 432x288 with 1 Axes>"
            ]
          },
          "metadata": {
            "needs_background": "light"
          }
        }
      ]
    },
    {
      "cell_type": "code",
      "source": [
        "#  Scale the values in Xtrain & Xtest \n",
        "X_train=X_train/255\n",
        "X_test=X_test/255\n",
        "# Display the length of X_train\n",
        "print(len(X_train))"
      ],
      "metadata": {
        "id": "rhAy9LVFqNS0",
        "colab": {
          "base_uri": "https://localhost:8080/"
        },
        "outputId": "49194843-08c1-4013-cb6c-6f0fca87548f"
      },
      "execution_count": null,
      "outputs": [
        {
          "output_type": "stream",
          "name": "stdout",
          "text": [
            "60000\n"
          ]
        }
      ]
    },
    {
      "cell_type": "code",
      "source": [
        "# Flattening Xtrain & Xtest to a 2D array\n",
        "X_train_flattened=X_train.reshape(-1,784)\n",
        "X_test_flattened=X_test.reshape(-1,784)\n",
        "#Display the shape of flattened Xtrain & Xtest\n",
        "X_train_flattened.shape"
      ],
      "metadata": {
        "id": "HECQ2X0IObf9",
        "colab": {
          "base_uri": "https://localhost:8080/"
        },
        "outputId": "7007dafa-7907-42d2-8d3b-1c632b3f519f"
      },
      "execution_count": null,
      "outputs": [
        {
          "output_type": "execute_result",
          "data": {
            "text/plain": [
              "(60000, 784)"
            ]
          },
          "metadata": {},
          "execution_count": 24
        }
      ]
    },
    {
      "cell_type": "code",
      "source": [
        "#Build the model \n",
        "model = keras.Sequential([\n",
        "   keras.layers.Dense(10, activation='sigmoid')\n",
        "])\n",
        "# Apply 'adam' optimizer\n",
        "model.compile(optimizer='adam',\n",
        "              loss='sparse_categorical_crossentropy',\n",
        "              metrics=['accuracy'])\n",
        "\n",
        "# Train the model using fit(). Give epoch as 10\n",
        "model.fit(X_train_flattened,y_train,epochs=10)\n",
        "#Evaluate the model \n",
        "model.evaluate(X_test_flattened, y_test)\n",
        "\n",
        "#Predict the values for flattened test dataset\n",
        "y_predicted = model.predict(X_test_flattened)\n",
        "\n",
        "\n",
        "#Display the first row of y_predicted\n",
        "y_predicted[1]\n"
      ],
      "metadata": {
        "id": "kiksXHq_O2pA",
        "colab": {
          "base_uri": "https://localhost:8080/"
        },
        "outputId": "e7b2ea94-52c1-434f-a037-dcdae925c65a"
      },
      "execution_count": null,
      "outputs": [
        {
          "output_type": "stream",
          "name": "stdout",
          "text": [
            "Epoch 1/10\n",
            "1875/1875 [==============================] - 3s 2ms/step - loss: 0.4608 - accuracy: 0.8794\n",
            "Epoch 2/10\n",
            "1875/1875 [==============================] - 3s 2ms/step - loss: 0.3033 - accuracy: 0.9149\n",
            "Epoch 3/10\n",
            "1875/1875 [==============================] - 3s 2ms/step - loss: 0.2833 - accuracy: 0.9208\n",
            "Epoch 4/10\n",
            "1875/1875 [==============================] - 3s 2ms/step - loss: 0.2736 - accuracy: 0.9235\n",
            "Epoch 5/10\n",
            "1875/1875 [==============================] - 3s 2ms/step - loss: 0.2671 - accuracy: 0.9256\n",
            "Epoch 6/10\n",
            "1875/1875 [==============================] - 3s 2ms/step - loss: 0.2615 - accuracy: 0.9275\n",
            "Epoch 7/10\n",
            "1875/1875 [==============================] - 3s 2ms/step - loss: 0.2584 - accuracy: 0.9286\n",
            "Epoch 8/10\n",
            "1875/1875 [==============================] - 3s 2ms/step - loss: 0.2554 - accuracy: 0.9290\n",
            "Epoch 9/10\n",
            "1875/1875 [==============================] - 3s 2ms/step - loss: 0.2527 - accuracy: 0.9297\n",
            "Epoch 10/10\n",
            "1875/1875 [==============================] - 3s 2ms/step - loss: 0.2511 - accuracy: 0.9308\n",
            "313/313 [==============================] - 1s 1ms/step - loss: 0.2636 - accuracy: 0.9268\n"
          ]
        },
        {
          "output_type": "execute_result",
          "data": {
            "text/plain": [
              "array([2.6382768e-01, 3.4855604e-03, 9.9981582e-01, 1.2625471e-01,\n",
              "       2.3025406e-11, 8.9386082e-01, 9.3199778e-01, 1.6089260e-15,\n",
              "       9.8403245e-02, 5.7996238e-12], dtype=float32)"
            ]
          },
          "metadata": {},
          "execution_count": 25
        }
      ]
    },
    {
      "cell_type": "code",
      "source": [
        "# Display the predicted value by applying argmax()\n",
        "y_predicted_labels = [np.argmax(i) for i in y_predicted]\n",
        "#Confirm the prediction by displaying the corresponding pixel values using matshow() ir imshow()\n",
        "y_predicted[0]\n"
      ],
      "metadata": {
        "id": "cjlESt3nn_3q",
        "colab": {
          "base_uri": "https://localhost:8080/"
        },
        "outputId": "abb46984-6249-444e-fd9f-440cc3591e99"
      },
      "execution_count": null,
      "outputs": [
        {
          "output_type": "execute_result",
          "data": {
            "text/plain": [
              "array([2.6132762e-03, 1.2963538e-08, 2.0414650e-02, 9.6227682e-01,\n",
              "       1.5024841e-03, 1.2602210e-01, 3.5109942e-08, 9.9984407e-01,\n",
              "       8.1136942e-02, 6.4542764e-01], dtype=float32)"
            ]
          },
          "metadata": {},
          "execution_count": 26
        }
      ]
    },
    {
      "cell_type": "code",
      "source": [
        "#Display the predicted values  for test dataset. Display only first 5 predicted values\n",
        "y_predicted_labels = [np.argmax(i) for i in y_predicted]\n",
        "y_predicted_labels[:5]\n",
        "\n",
        "#Construct the Confusion Matrix \n",
        "y_predicted_labels = [np.argmax(i) for i in y_predicted]\n",
        "cm = tf.math.confusion_matrix(labels=y_test, predictions = y_predicted_labels)\n",
        "cm"
      ],
      "metadata": {
        "id": "EKPpIoPyoipF",
        "colab": {
          "base_uri": "https://localhost:8080/"
        },
        "outputId": "7dc7a177-21ef-4b94-8e8c-affb0135b018"
      },
      "execution_count": null,
      "outputs": [
        {
          "output_type": "execute_result",
          "data": {
            "text/plain": [
              "<tf.Tensor: shape=(10, 10), dtype=int32, numpy=\n",
              "array([[ 960,    0,    3,    2,    0,    5,    6,    3,    1,    0],\n",
              "       [   0, 1116,    4,    2,    0,    1,    4,    2,    6,    0],\n",
              "       [   4,    8,  940,   13,    8,    4,   12,    9,   30,    4],\n",
              "       [   3,    0,   25,  911,    0,   29,    3,    9,   19,   11],\n",
              "       [   1,    1,    6,    2,  907,    0,   12,    4,    9,   40],\n",
              "       [   9,    4,    3,   29,    7,  782,   16,    7,   29,    6],\n",
              "       [  10,    3,    8,    1,    7,   12,  914,    1,    2,    0],\n",
              "       [   1,    6,   27,    4,    6,    1,    0,  944,    2,   37],\n",
              "       [   6,   12,    7,   19,    9,   27,   11,    9,  862,   12],\n",
              "       [  11,    7,    1,    8,   21,    6,    0,   17,    6,  932]],\n",
              "      dtype=int32)>"
            ]
          },
          "metadata": {},
          "execution_count": 27
        }
      ]
    },
    {
      "cell_type": "code",
      "source": [
        "#Display confusion matrix using heatmap\n",
        "from sklearn.metrics import confusion_matrix\n",
        "import seaborn as sn\n",
        "plt.figure(figsize = (10,7))\n",
        "sn.heatmap(cm, annot=True, fmt='d')\n",
        "plt.xlabel('Predicted')\n",
        "plt.ylabel('Truth')\n"
      ],
      "metadata": {
        "id": "fi-RWO8kq6tR",
        "colab": {
          "base_uri": "https://localhost:8080/",
          "height": 459
        },
        "outputId": "9cd31fbf-2c6f-45f9-8547-9f7c8c8056e2"
      },
      "execution_count": null,
      "outputs": [
        {
          "output_type": "execute_result",
          "data": {
            "text/plain": [
              "Text(69.0, 0.5, 'Truth')"
            ]
          },
          "metadata": {},
          "execution_count": 28
        },
        {
          "output_type": "display_data",
          "data": {
            "image/png": "[encoded data removed]",
            "text/plain": [
              "<Figure size 720x504 with 2 Axes>"
            ]
          },
          "metadata": {
            "needs_background": "light"
          }
        }
      ]
    },
    {
      "cell_type": "markdown",
      "source": [
        "USING HIDDEN LAYER"
      ],
      "metadata": {
        "id": "nroJ4N3arqQn"
      }
    },
    {
      "cell_type": "code",
      "source": [
        "model = keras.Sequential([\n",
        "    keras.layers.Dense(100,activation='relu'),\n",
        "    keras.layers.Dense(10, activation='sigmoid')\n",
        "])\n"
      ],
      "metadata": {
        "id": "h5dRCoV5rnti"
      },
      "execution_count": null,
      "outputs": []
    },
    {
      "cell_type": "code",
      "source": [
        "model.compile(optimizer='adam',\n",
        "              loss='sparse_categorical_crossentropy',\n",
        "              metrics=['accuracy'])\n"
      ],
      "metadata": {
        "id": "f5f6GRurr4QV"
      },
      "execution_count": null,
      "outputs": []
    },
    {
      "cell_type": "code",
      "source": [
        "model.fit(X_train_flattened, y_train, epochs=5)"
      ],
      "metadata": {
        "id": "SJwfH7BHr6OB",
        "colab": {
          "base_uri": "https://localhost:8080/"
        },
        "outputId": "e3d77405-7f6f-41bc-f777-3f595e0c1a89"
      },
      "execution_count": null,
      "outputs": [
        {
          "output_type": "stream",
          "name": "stdout",
          "text": [
            "Epoch 1/5\n",
            "1875/1875 [==============================] - 4s 2ms/step - loss: 0.2696 - accuracy: 0.9240\n",
            "Epoch 2/5\n",
            "1875/1875 [==============================] - 4s 2ms/step - loss: 0.1202 - accuracy: 0.9638\n",
            "Epoch 3/5\n",
            "1875/1875 [==============================] - 4s 2ms/step - loss: 0.0843 - accuracy: 0.9737\n",
            "Epoch 4/5\n",
            "1875/1875 [==============================] - 4s 2ms/step - loss: 0.0629 - accuracy: 0.9805\n",
            "Epoch 5/5\n",
            "1875/1875 [==============================] - 4s 2ms/step - loss: 0.0487 - accuracy: 0.9850\n"
          ]
        },
        {
          "output_type": "execute_result",
          "data": {
            "text/plain": [
              "<keras.callbacks.History at 0x7f0ad4dd8790>"
            ]
          },
          "metadata": {},
          "execution_count": 31
        }
      ]
    },
    {
      "cell_type": "code",
      "source": [
        "model.evaluate(X_test_flattened,y_test)"
      ],
      "metadata": {
        "id": "EVtF80GAsJLD",
        "colab": {
          "base_uri": "https://localhost:8080/"
        },
        "outputId": "db4093b8-bad8-4bf7-9b89-c3393ef20bb1"
      },
      "execution_count": null,
      "outputs": [
        {
          "output_type": "stream",
          "name": "stdout",
          "text": [
            "313/313 [==============================] - 1s 2ms/step - loss: 0.0768 - accuracy: 0.9772\n"
          ]
        },
        {
          "output_type": "execute_result",
          "data": {
            "text/plain": [
              "[0.07684215903282166, 0.9771999716758728]"
            ]
          },
          "metadata": {},
          "execution_count": 32
        }
      ]
    },
    {
      "cell_type": "code",
      "source": [
        "y_predicted = model.predict(X_test_flattened)\n",
        "y_predicted"
      ],
      "metadata": {
        "id": "Q8F0laMjsSoG",
        "colab": {
          "base_uri": "https://localhost:8080/"
        },
        "outputId": "d7bafe19-90dd-4d3e-c04d-46d4001e7260"
      },
      "execution_count": null,
      "outputs": [
        {
          "output_type": "execute_result",
          "data": {
            "text/plain": [
              "array([[6.71359897e-03, 1.97085738e-03, 5.91088593e-01, ...,\n",
              "        9.99981046e-01, 1.88634187e-01, 4.02851164e-01],\n",
              "       [3.47872376e-01, 9.31011438e-01, 9.99999046e-01, ...,\n",
              "        1.05684954e-07, 9.33557034e-01, 3.04874993e-06],\n",
              "       [1.09201748e-04, 9.97640550e-01, 1.14731222e-01, ...,\n",
              "        1.93968445e-01, 6.06244922e-01, 2.46641040e-03],\n",
              "       ...,\n",
              "       [8.31612738e-07, 7.35858775e-05, 1.24514103e-04, ...,\n",
              "        9.20154214e-01, 5.54880142e-01, 9.27828312e-01],\n",
              "       [5.16355336e-02, 1.94145778e-05, 2.53885984e-04, ...,\n",
              "        4.46671247e-03, 8.74060631e-01, 6.49127787e-06],\n",
              "       [6.97101235e-01, 2.06932164e-05, 8.65250528e-02, ...,\n",
              "        1.99901365e-07, 1.13031268e-03, 1.99655806e-05]], dtype=float32)"
            ]
          },
          "metadata": {},
          "execution_count": 33
        }
      ]
    },
    {
      "cell_type": "code",
      "source": [
        "y_predicted_labels = [np.argmax(i) for i in y_predicted]\n"
      ],
      "metadata": {
        "id": "-zjzhi5cshW2"
      },
      "execution_count": null,
      "outputs": []
    },
    {
      "cell_type": "code",
      "source": [
        "y_predicted[0]"
      ],
      "metadata": {
        "id": "4d0Vcf6ks7uL",
        "colab": {
          "base_uri": "https://localhost:8080/"
        },
        "outputId": "d346212e-3f97-4a84-8051-e7a5036e9318"
      },
      "execution_count": null,
      "outputs": [
        {
          "output_type": "execute_result",
          "data": {
            "text/plain": [
              "array([6.71359897e-03, 1.97085738e-03, 5.91088593e-01, 7.46202528e-01,\n",
              "       4.65860296e-07, 3.10260355e-02, 1.15369446e-07, 9.99981046e-01,\n",
              "       1.88634187e-01, 4.02851164e-01], dtype=float32)"
            ]
          },
          "metadata": {},
          "execution_count": 35
        }
      ]
    },
    {
      "cell_type": "code",
      "source": [
        "np.argmax(y_predicted[0])"
      ],
      "metadata": {
        "id": "g-StqsZEtQXL",
        "colab": {
          "base_uri": "https://localhost:8080/"
        },
        "outputId": "5966c606-7556-43e8-e58c-e0c5132294fb"
      },
      "execution_count": null,
      "outputs": [
        {
          "output_type": "execute_result",
          "data": {
            "text/plain": [
              "7"
            ]
          },
          "metadata": {},
          "execution_count": 36
        }
      ]
    },
    {
      "cell_type": "code",
      "source": [
        "y_predicted_labels = [np.argmax(i) for i in y_predicted]\n",
        "y_predicted_labels[:5]\n"
      ],
      "metadata": {
        "id": "iVNt7gECtdiZ",
        "colab": {
          "base_uri": "https://localhost:8080/"
        },
        "outputId": "0fa37cfb-b0d2-437e-f0fc-d565600f2abc"
      },
      "execution_count": null,
      "outputs": [
        {
          "output_type": "execute_result",
          "data": {
            "text/plain": [
              "[7, 2, 1, 0, 4]"
            ]
          },
          "metadata": {},
          "execution_count": 37
        }
      ]
    },
    {
      "cell_type": "code",
      "source": [
        "plt.matshow(X_test[0])"
      ],
      "metadata": {
        "id": "al_TpD30tB4x",
        "colab": {
          "base_uri": "https://localhost:8080/",
          "height": 292
        },
        "outputId": "325abeab-de46-4932-8b97-1929212646e8"
      },
      "execution_count": null,
      "outputs": [
        {
          "output_type": "execute_result",
          "data": {
            "text/plain": [
              "<matplotlib.image.AxesImage at 0x7f0ad3a83990>"
            ]
          },
          "metadata": {},
          "execution_count": 38
        },
        {
          "output_type": "display_data",
          "data": {
            "image/png": "[encoded data removed]",
            "text/plain": [
              "<Figure size 288x288 with 1 Axes>"
            ]
          },
          "metadata": {
            "needs_background": "light"
          }
        }
      ]
    },
    {
      "cell_type": "markdown",
      "source": [
        "USING FLATTEN LAYER TO CONVERT 2D to 1D"
      ],
      "metadata": {
        "id": "RSRDbxiTuKAi"
      }
    },
    {
      "cell_type": "code",
      "source": [
        "model = keras.Sequential([\n",
        "    keras.layers.Flatten(input_shape=(28, 28)),\n",
        "    keras.layers.Dense(100, activation='relu'),\n",
        "    keras.layers.Dense(10, activation='sigmoid')\n",
        "])\n"
      ],
      "metadata": {
        "id": "dF2IRZ1vuNmf"
      },
      "execution_count": null,
      "outputs": []
    },
    {
      "cell_type": "code",
      "source": [
        "model.compile(optimizer='adam',\n",
        "              loss='sparse_categorical_crossentropy',\n",
        "              metrics=['accuracy'])\n"
      ],
      "metadata": {
        "id": "eRdGVbtIueUf"
      },
      "execution_count": null,
      "outputs": []
    },
    {
      "cell_type": "code",
      "source": [
        "model.fit(X_train, y_train, epochs=10)"
      ],
      "metadata": {
        "id": "zb8tDyNnukYK",
        "colab": {
          "base_uri": "https://localhost:8080/"
        },
        "outputId": "00cdb00f-319d-4447-ae65-99ab2d2c5966"
      },
      "execution_count": null,
      "outputs": [
        {
          "output_type": "stream",
          "name": "stdout",
          "text": [
            "Epoch 1/10\n",
            "1875/1875 [==============================] - 4s 2ms/step - loss: 0.2720 - accuracy: 0.9223\n",
            "Epoch 2/10\n",
            "1875/1875 [==============================] - 4s 2ms/step - loss: 0.1226 - accuracy: 0.9640\n",
            "Epoch 3/10\n",
            "1875/1875 [==============================] - 4s 2ms/step - loss: 0.0868 - accuracy: 0.9731\n",
            "Epoch 4/10\n",
            "1875/1875 [==============================] - 4s 2ms/step - loss: 0.0661 - accuracy: 0.9800\n",
            "Epoch 5/10\n",
            "1875/1875 [==============================] - 4s 2ms/step - loss: 0.0520 - accuracy: 0.9841\n",
            "Epoch 6/10\n",
            "1875/1875 [==============================] - 4s 2ms/step - loss: 0.0433 - accuracy: 0.9866\n",
            "Epoch 7/10\n",
            "1875/1875 [==============================] - 4s 2ms/step - loss: 0.0348 - accuracy: 0.9891\n",
            "Epoch 8/10\n",
            "1875/1875 [==============================] - 4s 2ms/step - loss: 0.0287 - accuracy: 0.9909\n",
            "Epoch 9/10\n",
            "1875/1875 [==============================] - 4s 2ms/step - loss: 0.0244 - accuracy: 0.9923\n",
            "Epoch 10/10\n",
            "1875/1875 [==============================] - 4s 2ms/step - loss: 0.0197 - accuracy: 0.9939\n"
          ]
        },
        {
          "output_type": "execute_result",
          "data": {
            "text/plain": [
              "<keras.callbacks.History at 0x7f0ad66b1910>"
            ]
          },
          "metadata": {},
          "execution_count": 41
        }
      ]
    },
    {
      "cell_type": "code",
      "source": [
        "model.evaluate(X_test,y_test)"
      ],
      "metadata": {
        "id": "kW7QfXFwuwo8",
        "colab": {
          "base_uri": "https://localhost:8080/"
        },
        "outputId": "8433c288-449a-4731-dfb0-eea4f5936d17"
      },
      "execution_count": null,
      "outputs": [
        {
          "output_type": "stream",
          "name": "stdout",
          "text": [
            "313/313 [==============================] - 1s 1ms/step - loss: 0.0791 - accuracy: 0.9791\n"
          ]
        },
        {
          "output_type": "execute_result",
          "data": {
            "text/plain": [
              "[0.079087033867836, 0.9790999889373779]"
            ]
          },
          "metadata": {},
          "execution_count": 42
        }
      ]
    }
  ]
}